{
 "cells": [
  {
   "cell_type": "code",
   "execution_count": 1,
   "id": "62e6d1d9",
   "metadata": {},
   "outputs": [],
   "source": [
    "import pandas as pd"
   ]
  },
  {
   "cell_type": "code",
   "execution_count": 2,
   "id": "59ace119",
   "metadata": {},
   "outputs": [],
   "source": [
    "df = pd.read_csv('~/Downloads/全国热力图数据带城市.txt',sep = '\\t')"
   ]
  },
  {
   "cell_type": "code",
   "execution_count": 3,
   "id": "685f2e8f",
   "metadata": {},
   "outputs": [],
   "source": [
    "def concat(df):\n",
    "    s = ''\n",
    "    for index, row in df.iterrows():\n",
    "        s = s + ';' + row['key']\n",
    "    return s[1:len(s)]"
   ]
  },
  {
   "cell_type": "code",
   "execution_count": 10,
   "id": "ca6ad91a",
   "metadata": {},
   "outputs": [],
   "source": [
    "df1 = df[df['cityid'].isin(['3511','3515','3599','3600','3605','3610','3611','3621','3627','4440','628','609','913','888','902','901','890','422','784','965','118','1006','1021','989','1087','1048','1368','404','198','2300','2297','4431','2289','1783','1771','2301','1646','1604','1797','1883','1961','2189','1722','1699','279','1365','1856','2044','2019','4484','2109','1707','1698','1474','2276','1465','1500','1484','1403','597','1571','2255','2265','1414','757','2263','1458','477','1702','1701','1696'])]"
   ]
  },
  {
   "cell_type": "code",
   "execution_count": 7,
   "id": "c5c68f74",
   "metadata": {},
   "outputs": [
    {
     "data": {
      "text/plain": [
       "0          False\n",
       "1          False\n",
       "2          False\n",
       "3          False\n",
       "4          False\n",
       "           ...  \n",
       "9170818    False\n",
       "9170819    False\n",
       "9170820    False\n",
       "9170821    False\n",
       "9170822    False\n",
       "Name: cityid, Length: 9170823, dtype: bool"
      ]
     },
     "execution_count": 7,
     "metadata": {},
     "output_type": "execute_result"
    }
   ],
   "source": [
    "df['cityid'].isin(['3511'])"
   ]
  },
  {
   "cell_type": "code",
   "execution_count": 12,
   "id": "35901fd3",
   "metadata": {},
   "outputs": [],
   "source": [
    "cc = df1.groupby(by='cityid').apply(concat)"
   ]
  },
  {
   "cell_type": "code",
   "execution_count": 15,
   "id": "fdd5a183",
   "metadata": {},
   "outputs": [],
   "source": [
    "cc.to_csv('~/Downloads/linshi.csv')"
   ]
  },
  {
   "cell_type": "code",
   "execution_count": null,
   "id": "e91a814d",
   "metadata": {},
   "outputs": [],
   "source": []
  }
 ],
 "metadata": {
  "kernelspec": {
   "display_name": "Python 3",
   "language": "python",
   "name": "python3"
  },
  "language_info": {
   "codemirror_mode": {
    "name": "ipython",
    "version": 3
   },
   "file_extension": ".py",
   "mimetype": "text/x-python",
   "name": "python",
   "nbconvert_exporter": "python",
   "pygments_lexer": "ipython3",
   "version": "3.9.1"
  }
 },
 "nbformat": 4,
 "nbformat_minor": 5
}
