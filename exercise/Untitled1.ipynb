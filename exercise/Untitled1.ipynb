{
 "cells": [
  {
   "cell_type": "code",
   "execution_count": 20,
   "id": "c8e5f346",
   "metadata": {},
   "outputs": [],
   "source": [
    "import pandas as pd"
   ]
  },
  {
   "cell_type": "code",
   "execution_count": 21,
   "id": "802d6845",
   "metadata": {},
   "outputs": [],
   "source": [
    "df = pd.read_csv('~/Downloads/全国热力图数据带城市.txt',sep = '\\t')"
   ]
  },
  {
   "cell_type": "code",
   "execution_count": 22,
   "id": "2f2e6d06",
   "metadata": {},
   "outputs": [
    {
     "data": {
      "text/html": [
       "<div>\n",
       "<style scoped>\n",
       "    .dataframe tbody tr th:only-of-type {\n",
       "        vertical-align: middle;\n",
       "    }\n",
       "\n",
       "    .dataframe tbody tr th {\n",
       "        vertical-align: top;\n",
       "    }\n",
       "\n",
       "    .dataframe thead th {\n",
       "        text-align: right;\n",
       "    }\n",
       "</style>\n",
       "<table border=\"1\" class=\"dataframe\">\n",
       "  <thead>\n",
       "    <tr style=\"text-align: right;\">\n",
       "      <th></th>\n",
       "      <th>key</th>\n",
       "      <th>cityid</th>\n",
       "      <th>city_name</th>\n",
       "    </tr>\n",
       "  </thead>\n",
       "  <tbody>\n",
       "    <tr>\n",
       "      <th>0</th>\n",
       "      <td>103.189,35.589,6</td>\n",
       "      <td>2140,2141,2146</td>\n",
       "      <td>临夏市,临夏县,东乡族自治县</td>\n",
       "    </tr>\n",
       "    <tr>\n",
       "      <th>1</th>\n",
       "      <td>103.21,35.602,29</td>\n",
       "      <td>2140,2141,2146</td>\n",
       "      <td>临夏市,临夏县,东乡族自治县</td>\n",
       "    </tr>\n",
       "    <tr>\n",
       "      <th>2</th>\n",
       "      <td>112.929,27.556,1</td>\n",
       "      <td>1406</td>\n",
       "      <td>湘潭县</td>\n",
       "    </tr>\n",
       "    <tr>\n",
       "      <th>3</th>\n",
       "      <td>116.714,23.503,2</td>\n",
       "      <td>4439,221,1490</td>\n",
       "      <td>澄海,潮州,潮安区</td>\n",
       "    </tr>\n",
       "    <tr>\n",
       "      <th>4</th>\n",
       "      <td>118.713,31.801,52</td>\n",
       "      <td>5</td>\n",
       "      <td>南京</td>\n",
       "    </tr>\n",
       "    <tr>\n",
       "      <th>...</th>\n",
       "      <td>...</td>\n",
       "      <td>...</td>\n",
       "      <td>...</td>\n",
       "    </tr>\n",
       "    <tr>\n",
       "      <th>9170818</th>\n",
       "      <td>121.307,29.703,1</td>\n",
       "      <td>422,11</td>\n",
       "      <td>奉化,宁波</td>\n",
       "    </tr>\n",
       "    <tr>\n",
       "      <th>9170819</th>\n",
       "      <td>121.652,31.318,14</td>\n",
       "      <td>3580</td>\n",
       "      <td>崇明区</td>\n",
       "    </tr>\n",
       "    <tr>\n",
       "      <th>9170820</th>\n",
       "      <td>121.666,31.313,1</td>\n",
       "      <td>3580</td>\n",
       "      <td>崇明区</td>\n",
       "    </tr>\n",
       "    <tr>\n",
       "      <th>9170821</th>\n",
       "      <td>121.684,31.279,21</td>\n",
       "      <td>3580</td>\n",
       "      <td>崇明区</td>\n",
       "    </tr>\n",
       "    <tr>\n",
       "      <th>9170822</th>\n",
       "      <td>127.447,42.187,2</td>\n",
       "      <td>753</td>\n",
       "      <td>抚松县</td>\n",
       "    </tr>\n",
       "  </tbody>\n",
       "</table>\n",
       "<p>9170823 rows × 3 columns</p>\n",
       "</div>"
      ],
      "text/plain": [
       "                       key          cityid       city_name\n",
       "0         103.189,35.589,6  2140,2141,2146  临夏市,临夏县,东乡族自治县\n",
       "1         103.21,35.602,29  2140,2141,2146  临夏市,临夏县,东乡族自治县\n",
       "2         112.929,27.556,1            1406             湘潭县\n",
       "3         116.714,23.503,2   4439,221,1490       澄海,潮州,潮安区\n",
       "4        118.713,31.801,52               5              南京\n",
       "...                    ...             ...             ...\n",
       "9170818   121.307,29.703,1          422,11           奉化,宁波\n",
       "9170819  121.652,31.318,14            3580             崇明区\n",
       "9170820   121.666,31.313,1            3580             崇明区\n",
       "9170821  121.684,31.279,21            3580             崇明区\n",
       "9170822   127.447,42.187,2             753             抚松县\n",
       "\n",
       "[9170823 rows x 3 columns]"
      ]
     },
     "execution_count": 22,
     "metadata": {},
     "output_type": "execute_result"
    }
   ],
   "source": [
    "df"
   ]
  },
  {
   "cell_type": "code",
   "execution_count": 23,
   "id": "695d57fe",
   "metadata": {},
   "outputs": [],
   "source": [
    "df1 = df.groupby(by='cityid').apply(lambda x:x.shape)"
   ]
  },
  {
   "cell_type": "code",
   "execution_count": 33,
   "id": "25ec5797",
   "metadata": {},
   "outputs": [],
   "source": [
    "def concat(df):\n",
    "    s = ''\n",
    "    for index, row in df.iterrows():\n",
    "        s = s + ';' + row['key']\n",
    "    return s[1:len(s)]"
   ]
  },
  {
   "cell_type": "code",
   "execution_count": 41,
   "id": "7edd7841",
   "metadata": {},
   "outputs": [],
   "source": [
    "dd = df[(df['cityid']== '500') | (df['cityid'] == '800')]"
   ]
  },
  {
   "cell_type": "code",
   "execution_count": 44,
   "id": "5e10755f",
   "metadata": {},
   "outputs": [],
   "source": [
    "cc = dd.groupby(by='cityid').apply(concat)"
   ]
  },
  {
   "cell_type": "code",
   "execution_count": 45,
   "id": "efd5767f",
   "metadata": {},
   "outputs": [
    {
     "data": {
      "text/plain": [
       "cityid\n",
       "500    116.136,39.2,1;116.063,39.193,3;116.102,39.223...\n",
       "800    130.248,46.983,2;129.668,46.566,2;129.911,46.7...\n",
       "dtype: object"
      ]
     },
     "execution_count": 45,
     "metadata": {},
     "output_type": "execute_result"
    }
   ],
   "source": []
  },
  {
   "cell_type": "code",
   "execution_count": 48,
   "id": "91b9dda9",
   "metadata": {},
   "outputs": [],
   "source": [
    "df2 = df.groupby(by='cityid').apply(concat)"
   ]
  },
  {
   "cell_type": "code",
   "execution_count": 49,
   "id": "8f937ab3",
   "metadata": {},
   "outputs": [
    {
     "data": {
      "text/plain": [
       "cityid\n",
       "1            121.388,31.075,9;121.393,31.08,50;121.402,31.1...\n",
       "1,20         121.435,31.401,293;121.364,31.397,30;121.397,3...\n",
       "1,3580       121.608,31.344,9;121.647,31.259,36;121.612,31....\n",
       "1,416        120.984,31.079,10;121.033,31.148,12;121.005,31...\n",
       "1,416,420    121.056,31.303,125;121.081,31.288,9;121.082,31...\n",
       "                                   ...                        \n",
       "998,1002     117.585,25.787,1;117.559,25.78,2;117.572,25.78...\n",
       "998,128      117.449,26.084,2;117.437,26.06,2;117.444,26.07...\n",
       "999          117.091,26.415,2;117.413,26.284,2;117.448,26.2...\n",
       "999,1000     117.069,26.318,2;117.075,26.304,2;117.073,26.3...\n",
       "999,1005     117.206,26.363,4;117.21,26.358,3;117.208,26.35...\n",
       "Length: 10304, dtype: object"
      ]
     },
     "execution_count": 49,
     "metadata": {},
     "output_type": "execute_result"
    }
   ],
   "source": [
    "df2"
   ]
  },
  {
   "cell_type": "code",
   "execution_count": 62,
   "id": "53c18f29",
   "metadata": {},
   "outputs": [],
   "source": [
    "df2.to_csv('~/Downloads/quanbu.csv')"
   ]
  },
  {
   "cell_type": "code",
   "execution_count": 72,
   "id": "7c682386",
   "metadata": {},
   "outputs": [],
   "source": [
    "f1 = open('/Users/zhen.huaz/Downloads/quanbu.csv')\n",
    "for line in f1.readlines():\n",
    "    splits = line.split(',\"')\n",
    "#     print(splits[0])\n",
    "    f2 = open('/Users/zhen.huaz/Downloads/热力图/'+splits[0],'w')\n",
    "    f2.write(splits[1].replace('\"',''))\n",
    "    f2.close()\n",
    "f1.close()"
   ]
  },
  {
   "cell_type": "code",
   "execution_count": null,
   "id": "3bf6bc5e",
   "metadata": {},
   "outputs": [],
   "source": [
    "f=open('~/Downloads/热力图/')\n",
    "    print()"
   ]
  }
 ],
 "metadata": {
  "kernelspec": {
   "display_name": "Python 3",
   "language": "python",
   "name": "python3"
  },
  "language_info": {
   "codemirror_mode": {
    "name": "ipython",
    "version": 3
   },
   "file_extension": ".py",
   "mimetype": "text/x-python",
   "name": "python",
   "nbconvert_exporter": "python",
   "pygments_lexer": "ipython3",
   "version": "3.9.1"
  }
 },
 "nbformat": 4,
 "nbformat_minor": 5
}
