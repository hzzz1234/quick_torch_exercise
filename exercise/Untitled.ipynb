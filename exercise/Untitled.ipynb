{
 "cells": [
  {
   "cell_type": "markdown",
   "id": "cf92ea2e",
   "metadata": {},
   "source": [
    "### 正向传播、反向传播和计算图\n",
    "wiki:https://tangshusen.me/Dive-into-DL-PyTorch/#/chapter03_DL-basics/3.14_backprop"
   ]
  },
  {
   "cell_type": "markdown",
   "id": "90d0b4ee",
   "metadata": {},
   "source": [
    "### 数值稳定性和模型初始化\n",
    "wiki:https://tangshusen.me/Dive-into-DL-PyTorch/#/chapter03_DL-basics/3.15_numerical-stability-and-init"
   ]
  },
  {
   "cell_type": "markdown",
   "id": "4a9a4380",
   "metadata": {},
   "source": [
    "### 实战Kaggle比赛：房价预测"
   ]
  },
  {
   "cell_type": "code",
   "execution_count": 1,
   "id": "2005508a",
   "metadata": {},
   "outputs": [
    {
     "name": "stdout",
     "output_type": "stream",
     "text": [
      "1.8.1\n"
     ]
    }
   ],
   "source": [
    "%matplotlib inline\n",
    "import torch\n",
    "import torch.nn as nn\n",
    "import numpy as np\n",
    "import pandas as pd\n",
    "import sys\n",
    "sys.path.append(\"..\") \n",
    "import d2lzh_pytorch as d2l\n",
    "\n",
    "print(torch.__version__)\n",
    "torch.set_default_tensor_type(torch.FloatTensor)"
   ]
  },
  {
   "cell_type": "code",
   "execution_count": null,
   "id": "c14fc7de",
   "metadata": {},
   "outputs": [],
   "source": []
  }
 ],
 "metadata": {
  "kernelspec": {
   "display_name": "Python 3",
   "language": "python",
   "name": "python3"
  },
  "language_info": {
   "codemirror_mode": {
    "name": "ipython",
    "version": 3
   },
   "file_extension": ".py",
   "mimetype": "text/x-python",
   "name": "python",
   "nbconvert_exporter": "python",
   "pygments_lexer": "ipython3",
   "version": "3.9.1"
  }
 },
 "nbformat": 4,
 "nbformat_minor": 5
}
